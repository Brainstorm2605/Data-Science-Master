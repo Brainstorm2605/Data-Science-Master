{
 "cells": [
  {
   "cell_type": "markdown",
   "id": "ce29b05b-ccfb-4a7f-82b4-fa4a18d5342b",
   "metadata": {},
   "source": [
    "Question 1"
   ]
  },
  {
   "cell_type": "code",
   "execution_count": 2,
   "id": "9c8abd54-86d8-4e99-9857-5c0e1bf08015",
   "metadata": {},
   "outputs": [],
   "source": [
    "import pandas as pd "
   ]
  },
  {
   "cell_type": "code",
   "execution_count": 3,
   "id": "d41938ad-9ef1-40ab-929e-fb9a79b44cd0",
   "metadata": {},
   "outputs": [],
   "source": [
    "new_series = pd.Series([4, 8, 15, 16, 23, 42])"
   ]
  },
  {
   "cell_type": "code",
   "execution_count": 4,
   "id": "5a9e36a1-5e80-43dc-941e-80a4a83000f7",
   "metadata": {},
   "outputs": [
    {
     "name": "stdout",
     "output_type": "stream",
     "text": [
      "0     4\n",
      "1     8\n",
      "2    15\n",
      "3    16\n",
      "4    23\n",
      "5    42\n",
      "dtype: int64\n"
     ]
    }
   ],
   "source": [
    "print(new_series)"
   ]
  },
  {
   "cell_type": "markdown",
   "id": "96dfa398-9187-48b7-9206-66c2b62b90e5",
   "metadata": {},
   "source": [
    "Question 2"
   ]
  },
  {
   "cell_type": "code",
   "execution_count": 5,
   "id": "b5067eea-c655-4afd-b732-35d2adb0c283",
   "metadata": {},
   "outputs": [],
   "source": [
    "lst =[1,23,3,34,65,21,67,87,98,123]"
   ]
  },
  {
   "cell_type": "code",
   "execution_count": 6,
   "id": "da3a0fa0-f627-4719-a7aa-cac6606a49ce",
   "metadata": {},
   "outputs": [],
   "source": [
    "pd_lst=pd.Series(lst)"
   ]
  },
  {
   "cell_type": "code",
   "execution_count": 7,
   "id": "9191b77c-0ed1-41a6-9c33-a9452587a8e0",
   "metadata": {},
   "outputs": [
    {
     "name": "stdout",
     "output_type": "stream",
     "text": [
      "0      1\n",
      "1     23\n",
      "2      3\n",
      "3     34\n",
      "4     65\n",
      "5     21\n",
      "6     67\n",
      "7     87\n",
      "8     98\n",
      "9    123\n",
      "dtype: int64\n"
     ]
    }
   ],
   "source": [
    "print(pd_lst)"
   ]
  },
  {
   "cell_type": "markdown",
   "id": "2d0088d3-86f7-45d3-96ea-910e5ba38396",
   "metadata": {},
   "source": [
    "Question 3"
   ]
  },
  {
   "cell_type": "code",
   "execution_count": 8,
   "id": "2c6e9643-3281-4bd1-9434-fac697c96acd",
   "metadata": {},
   "outputs": [],
   "source": [
    "df = {\"Name\" : [\"Alice\", \"Bob\", \"Claire\"], \"Age\" : [25,30,27], \"Gender\" : [\"Female\", \"Male\", \"Female\"]}"
   ]
  },
  {
   "cell_type": "code",
   "execution_count": 9,
   "id": "22ef015f-c0d4-4464-9bcb-58143e7622be",
   "metadata": {},
   "outputs": [],
   "source": [
    "new_pdf_df = pd.DataFrame(df)"
   ]
  },
  {
   "cell_type": "code",
   "execution_count": 10,
   "id": "47744748-a28c-48e2-a4d6-33b0afc7d5e5",
   "metadata": {},
   "outputs": [
    {
     "data": {
      "text/html": [
       "<div>\n",
       "<style scoped>\n",
       "    .dataframe tbody tr th:only-of-type {\n",
       "        vertical-align: middle;\n",
       "    }\n",
       "\n",
       "    .dataframe tbody tr th {\n",
       "        vertical-align: top;\n",
       "    }\n",
       "\n",
       "    .dataframe thead th {\n",
       "        text-align: right;\n",
       "    }\n",
       "</style>\n",
       "<table border=\"1\" class=\"dataframe\">\n",
       "  <thead>\n",
       "    <tr style=\"text-align: right;\">\n",
       "      <th></th>\n",
       "      <th>Name</th>\n",
       "      <th>Age</th>\n",
       "      <th>Gender</th>\n",
       "    </tr>\n",
       "  </thead>\n",
       "  <tbody>\n",
       "    <tr>\n",
       "      <th>0</th>\n",
       "      <td>Alice</td>\n",
       "      <td>25</td>\n",
       "      <td>Female</td>\n",
       "    </tr>\n",
       "    <tr>\n",
       "      <th>1</th>\n",
       "      <td>Bob</td>\n",
       "      <td>30</td>\n",
       "      <td>Male</td>\n",
       "    </tr>\n",
       "    <tr>\n",
       "      <th>2</th>\n",
       "      <td>Claire</td>\n",
       "      <td>27</td>\n",
       "      <td>Female</td>\n",
       "    </tr>\n",
       "  </tbody>\n",
       "</table>\n",
       "</div>"
      ],
      "text/plain": [
       "     Name  Age  Gender\n",
       "0   Alice   25  Female\n",
       "1     Bob   30    Male\n",
       "2  Claire   27  Female"
      ]
     },
     "execution_count": 10,
     "metadata": {},
     "output_type": "execute_result"
    }
   ],
   "source": [
    "new_pdf_df"
   ]
  },
  {
   "cell_type": "code",
   "execution_count": 11,
   "id": "854ebce9-97d6-4d5b-8fb9-ffbd98504e19",
   "metadata": {},
   "outputs": [
    {
     "data": {
      "text/plain": [
       "pandas.core.frame.DataFrame"
      ]
     },
     "execution_count": 11,
     "metadata": {},
     "output_type": "execute_result"
    }
   ],
   "source": [
    "type(new_pdf_df)"
   ]
  },
  {
   "cell_type": "markdown",
   "id": "bbd1709e-0e1d-4dbe-81a3-3091188b9041",
   "metadata": {},
   "source": [
    "Question 4"
   ]
  },
  {
   "cell_type": "markdown",
   "id": "3af5aed9-51dc-4428-a249-107355211d88",
   "metadata": {},
   "source": [
    "DataFrame is a collection of multiple rows and colums whose size can be changed and where as series is single list or one dimension . For example : if we see \"Question 3\" in which if we choose to print one column then the result will be a series or if we print more than one column data then it will be a data frame ."
   ]
  },
  {
   "cell_type": "markdown",
   "id": "b2d54d87-1780-4cbc-907f-28e6875f7c6c",
   "metadata": {},
   "source": [
    "Question 5"
   ]
  },
  {
   "cell_type": "markdown",
   "id": "2596ff22-1996-49eb-bcae-0e0397c504b2",
   "metadata": {},
   "source": [
    "Some common function are : \n",
    "\n",
    "head() : to get the top 5 data as a default ,\n",
    "tail() : to get last 5 data as a default  ,\n",
    "count() : to count the number of data available in dataframe  , \n",
    "columns : to print column name/names"
   ]
  },
  {
   "cell_type": "markdown",
   "id": "7cb6eac1-fbf4-401e-93eb-a20fea3859e8",
   "metadata": {},
   "source": [
    "Question 6"
   ]
  },
  {
   "cell_type": "markdown",
   "id": "98bc2bdc-bbf3-4147-ae51-d05ecdc725cb",
   "metadata": {},
   "source": [
    "DataFrame and Panel is mutable in nature"
   ]
  },
  {
   "cell_type": "markdown",
   "id": "8fb5a44a-e8bb-490a-bb7c-14be693a1869",
   "metadata": {},
   "source": [
    "Question 7"
   ]
  },
  {
   "cell_type": "code",
   "execution_count": 15,
   "id": "f8ea8891-7d9e-4532-bcc9-5daabf134362",
   "metadata": {},
   "outputs": [],
   "source": [
    "\n",
    "name = pd.Series([\"Alice\", \"Bob\", \"Claire\"])\n",
    "age = pd.Series([25,30,27])\n",
    "gender = pd.Series([\"Female\",\"Male\",\"Female\"])"
   ]
  },
  {
   "cell_type": "code",
   "execution_count": 25,
   "id": "eb55d100-7ab6-4308-9423-04bc2184ea7b",
   "metadata": {},
   "outputs": [],
   "source": [
    "pd_concat = pd.concat([name,age,gender],axis=1,)"
   ]
  },
  {
   "cell_type": "code",
   "execution_count": 26,
   "id": "5684a85c-6706-4628-be7e-5ebff8c4e6f6",
   "metadata": {},
   "outputs": [
    {
     "data": {
      "text/html": [
       "<div>\n",
       "<style scoped>\n",
       "    .dataframe tbody tr th:only-of-type {\n",
       "        vertical-align: middle;\n",
       "    }\n",
       "\n",
       "    .dataframe tbody tr th {\n",
       "        vertical-align: top;\n",
       "    }\n",
       "\n",
       "    .dataframe thead th {\n",
       "        text-align: right;\n",
       "    }\n",
       "</style>\n",
       "<table border=\"1\" class=\"dataframe\">\n",
       "  <thead>\n",
       "    <tr style=\"text-align: right;\">\n",
       "      <th></th>\n",
       "      <th>0</th>\n",
       "      <th>1</th>\n",
       "      <th>2</th>\n",
       "    </tr>\n",
       "  </thead>\n",
       "  <tbody>\n",
       "    <tr>\n",
       "      <th>0</th>\n",
       "      <td>Alice</td>\n",
       "      <td>25</td>\n",
       "      <td>Female</td>\n",
       "    </tr>\n",
       "    <tr>\n",
       "      <th>1</th>\n",
       "      <td>Bob</td>\n",
       "      <td>30</td>\n",
       "      <td>Male</td>\n",
       "    </tr>\n",
       "    <tr>\n",
       "      <th>2</th>\n",
       "      <td>Claire</td>\n",
       "      <td>27</td>\n",
       "      <td>Female</td>\n",
       "    </tr>\n",
       "  </tbody>\n",
       "</table>\n",
       "</div>"
      ],
      "text/plain": [
       "        0   1       2\n",
       "0   Alice  25  Female\n",
       "1     Bob  30    Male\n",
       "2  Claire  27  Female"
      ]
     },
     "execution_count": 26,
     "metadata": {},
     "output_type": "execute_result"
    }
   ],
   "source": [
    "pd_concat"
   ]
  },
  {
   "cell_type": "code",
   "execution_count": null,
   "id": "1a3a2a5a-d661-41fd-9ddc-294758cee224",
   "metadata": {},
   "outputs": [],
   "source": []
  }
 ],
 "metadata": {
  "kernelspec": {
   "display_name": "Python 3 (ipykernel)",
   "language": "python",
   "name": "python3"
  },
  "language_info": {
   "codemirror_mode": {
    "name": "ipython",
    "version": 3
   },
   "file_extension": ".py",
   "mimetype": "text/x-python",
   "name": "python",
   "nbconvert_exporter": "python",
   "pygments_lexer": "ipython3",
   "version": "3.10.8"
  }
 },
 "nbformat": 4,
 "nbformat_minor": 5
}
